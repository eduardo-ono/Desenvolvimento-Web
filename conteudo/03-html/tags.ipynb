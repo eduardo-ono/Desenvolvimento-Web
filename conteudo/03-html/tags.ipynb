{
 "cells": [
  {
   "cell_type": "markdown",
   "id": "77734562-78cc-4e45-8b8f-4c3b35a4b705",
   "metadata": {},
   "source": [
    "> Desenvolvimento Web > Conteúdo\n",
    "\n",
    "# Tags HTML\n",
    "\n",
    "Prof. Eduardo Ono\n"
   ]
  },
  {
   "cell_type": "markdown",
   "id": "66a00da8-3edf-4f6a-ab3a-f0aa7acb2a3e",
   "metadata": {},
   "source": [
    "## &lt;a&gt;\n",
    "    \n",
    "```html\n",
    "<a href=\"https://github.com\">Link para o GitHub</a>\n",
    "```"
   ]
  },
  {
   "cell_type": "markdown",
   "id": "541f5ac8-4572-4142-a744-bff1d42bf8db",
   "metadata": {},
   "source": [
    "%%html\n",
    "\n",
    "<a href=\"https://github.com\">Link para o GitHub</a>"
   ]
  },
  {
   "cell_type": "markdown",
   "id": "b9e7828e-f201-4074-8803-881770a9e84b",
   "metadata": {},
   "source": [
    "## &lt;p&gt;\n",
    "\n",
    "```html\n",
    "<p>Este é um parágrafo.</p>\n",
    "```"
   ]
  },
  {
   "cell_type": "markdown",
   "id": "3c6d3422-23de-4e7e-8e04-2a3ab223162c",
   "metadata": {},
   "source": [
    "%%html\n",
    "\n",
    "<p>Este é um parágrafo.</p>"
   ]
  },
  {
   "cell_type": "code",
   "execution_count": null,
   "id": "69fc8a4b-7f23-408e-9dc7-e8359e6c7bc9",
   "metadata": {},
   "outputs": [],
   "source": []
  }
 ],
 "metadata": {
  "kernelspec": {
   "display_name": "Python 3",
   "language": "python",
   "name": "python3"
  },
  "language_info": {
   "codemirror_mode": {
    "name": "ipython",
    "version": 3
   },
   "file_extension": ".py",
   "mimetype": "text/x-python",
   "name": "python",
   "nbconvert_exporter": "python",
   "pygments_lexer": "ipython3",
   "version": "3.9.5"
  }
 },
 "nbformat": 4,
 "nbformat_minor": 5
}
