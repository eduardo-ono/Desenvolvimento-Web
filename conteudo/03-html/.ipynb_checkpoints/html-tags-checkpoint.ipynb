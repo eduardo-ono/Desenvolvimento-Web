{
 "cells": [
  {
   "cell_type": "markdown",
   "id": "77734562-78cc-4e45-8b8f-4c3b35a4b705",
   "metadata": {},
   "source": [
    "> Desenvolvimento Web > Conteúdo\n",
    "\n",
    "# Tags HTML\n",
    "\n",
    "Prof. Eduardo Ono\n"
   ]
  },
  {
   "cell_type": "code",
   "execution_count": 1,
   "id": "5a98f95e-0ce2-4088-a543-fde0e93563ca",
   "metadata": {
    "tags": []
   },
   "outputs": [
    {
     "data": {
      "text/html": [
       "\n",
       "<h2>&lt;a&gt;</h2>\n",
       "\n",
       "\n",
       "<a href=\"https://github.com\">Link para o GitHub</a>\n"
      ],
      "text/plain": [
       "<IPython.core.display.HTML object>"
      ]
     },
     "metadata": {},
     "output_type": "display_data"
    }
   ],
   "source": [
    "%%HTML\n",
    "\n",
    "<h2>&lt;a&gt;</h2>\n",
    "\n",
    "\n",
    "<a href=\"https://github.com\">Link para o GitHub</a>\n"
   ]
  },
  {
   "cell_type": "code",
   "execution_count": 2,
   "id": "b1dbc14d-f3ba-4a2f-8aa0-7e79035ad249",
   "metadata": {},
   "outputs": [
    {
     "data": {
      "text/html": [
       "\n",
       "<a href=\"https://github.com\">Link para o GitHub</a>\n"
      ],
      "text/plain": [
       "<IPython.core.display.HTML object>"
      ]
     },
     "metadata": {},
     "output_type": "display_data"
    }
   ],
   "source": [
    "%%html\n",
    "\n",
    "<a href=\"https://github.com\">Link para o GitHub</a>"
   ]
  },
  {
   "cell_type": "code",
   "execution_count": 3,
   "id": "efc42ede-43d0-4ed1-97dd-3e0949f71813",
   "metadata": {},
   "outputs": [
    {
     "data": {
      "text/html": [
       "\n",
       "<h2>&lt;p&gt;</h2>\n",
       "\n",
       "<p>Este é um parágrafo.</p>\n"
      ],
      "text/plain": [
       "<IPython.core.display.HTML object>"
      ]
     },
     "metadata": {},
     "output_type": "display_data"
    }
   ],
   "source": [
    "%%HTML\n",
    "\n",
    "<h2>&lt;p&gt;</h2>\n",
    "\n",
    "<p>Este é um parágrafo.</p>\n"
   ]
  },
  {
   "cell_type": "code",
   "execution_count": 4,
   "id": "cecfcca1-ed07-4751-98ff-8554e2d036fb",
   "metadata": {},
   "outputs": [
    {
     "data": {
      "text/html": [
       "\n",
       "<p>Linha horizontal:</p>\n",
       "<hr>\n"
      ],
      "text/plain": [
       "<IPython.core.display.HTML object>"
      ]
     },
     "metadata": {},
     "output_type": "display_data"
    }
   ],
   "source": [
    "%%HTML\n",
    "\n",
    "<p>Linha horizontal:</p>\n",
    "<hr>"
   ]
  }
 ],
 "metadata": {
  "kernelspec": {
   "display_name": "Python 3",
   "language": "python",
   "name": "python3"
  },
  "language_info": {
   "codemirror_mode": {
    "name": "ipython",
    "version": 3
   },
   "file_extension": ".py",
   "mimetype": "text/x-python",
   "name": "python",
   "nbconvert_exporter": "python",
   "pygments_lexer": "ipython3",
   "version": "3.9.5"
  }
 },
 "nbformat": 4,
 "nbformat_minor": 5
}
